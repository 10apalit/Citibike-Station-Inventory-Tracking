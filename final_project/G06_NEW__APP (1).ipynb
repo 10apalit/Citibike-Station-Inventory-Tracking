{
 "cells": [
  {
   "cell_type": "code",
   "execution_count": 0,
   "metadata": {
    "application/vnd.databricks.v1+cell": {
     "cellMetadata": {
      "byteLimit": 2048000,
      "rowLimit": 10000
     },
     "inputWidgets": {},
     "nuid": "75c4359b-61a7-43f5-b07c-b79d442cf95d",
     "showTitle": false,
     "title": ""
    }
   },
   "outputs": [],
   "source": [
    "%run \"../final_project/includes/includes/\" "
   ]
  },
  {
   "cell_type": "code",
   "execution_count": 0,
   "metadata": {
    "application/vnd.databricks.v1+cell": {
     "cellMetadata": {
      "byteLimit": 2048000,
      "rowLimit": 10000
     },
     "inputWidgets": {},
     "nuid": "81bf23af-2ddd-409e-96dc-c791b1c72cb4",
     "showTitle": false,
     "title": ""
    }
   },
   "outputs": [],
   "source": [
    "!pip install folium"
   ]
  },
  {
   "cell_type": "code",
   "execution_count": 0,
   "metadata": {
    "application/vnd.databricks.v1+cell": {
     "cellMetadata": {
      "byteLimit": 2048000,
      "rowLimit": 10000
     },
     "inputWidgets": {},
     "nuid": "5c4c1a5c-5cc5-4925-abea-565a84838390",
     "showTitle": false,
     "title": ""
    }
   },
   "outputs": [],
   "source": [
    "import pandas as pd\n",
    "import matplotlib.pyplot as plt\n",
    "from pyspark.sql.functions import *\n",
    "import datetime\n",
    "import plotly.express as px\n",
    "from mlflow.tracking.client import MlflowClient"
   ]
  },
  {
   "cell_type": "code",
   "execution_count": 0,
   "metadata": {
    "application/vnd.databricks.v1+cell": {
     "cellMetadata": {
      "byteLimit": 2048000,
      "rowLimit": 10000
     },
     "inputWidgets": {},
     "nuid": "89b532dc-66ae-408f-9c95-bb5da6e64e12",
     "showTitle": false,
     "title": ""
    }
   },
   "outputs": [],
   "source": [
    "predict_hours = 4 "
   ]
  },
  {
   "cell_type": "code",
   "execution_count": 0,
   "metadata": {
    "application/vnd.databricks.v1+cell": {
     "cellMetadata": {
      "byteLimit": 2048000,
      "rowLimit": 10000
     },
     "inputWidgets": {},
     "nuid": "94211b41-5d30-46e8-bb6e-efb27a74f300",
     "showTitle": false,
     "title": ""
    }
   },
   "outputs": [],
   "source": [
    "# Question 1: Current timestamp when the notebook is run (now)\n",
    "date = datetime.datetime.now(datetime.timezone(datetime.timedelta(hours=-4))).replace(microsecond=0,second=0,minute=0)\n",
    "utc = '%Y-%m-%d %H:%M:%S'\n",
    "hour = date.strftime(\"%Y-%m-%d %H\")\n",
    "date = date.strftime(utc)"
   ]
  },
  {
   "cell_type": "code",
   "execution_count": 0,
   "metadata": {
    "application/vnd.databricks.v1+cell": {
     "cellMetadata": {
      "byteLimit": 2048000,
      "rowLimit": 10000
     },
     "inputWidgets": {},
     "nuid": "016a3002-ab57-4f93-92a7-70a259664e6e",
     "showTitle": false,
     "title": ""
    }
   },
   "outputs": [],
   "source": [
    "print(\"Current timestamp when the notebook is run (now)\", date)"
   ]
  },
  {
   "cell_type": "code",
   "execution_count": 0,
   "metadata": {
    "application/vnd.databricks.v1+cell": {
     "cellMetadata": {
      "byteLimit": 2048000,
      "rowLimit": 10000
     },
     "inputWidgets": {},
     "nuid": "467da88a-0732-43dc-8088-18283bb6d385",
     "showTitle": false,
     "title": ""
    }
   },
   "outputs": [],
   "source": [
    "# details of production model\n",
    "client = MlflowClient()\n",
    "model_production = client.get_latest_versions(GROUP_MODEL_NAME, stages=[\"Production\"])\n",
    "print(\"Current Production Model\",model_production)\n",
    "latest_production_version = model_production[0].version\n",
    "print(\"The latest production version of the model '%s' is '%s'.\" % (GROUP_MODEL_NAME, latest_production_version))"
   ]
  },
  {
   "cell_type": "code",
   "execution_count": 0,
   "metadata": {
    "application/vnd.databricks.v1+cell": {
     "cellMetadata": {
      "byteLimit": 2048000,
      "rowLimit": 10000
     },
     "inputWidgets": {},
     "nuid": "5bac3c8b-64b4-4d11-a2de-0918431e3bd5",
     "showTitle": false,
     "title": ""
    }
   },
   "outputs": [],
   "source": [
    "#details of staging model\n",
    "model_staging = client.get_latest_versions(GROUP_MODEL_NAME, stages=[\"Staging\"])\n",
    "print(\"Current Staging Model\",model_staging)\n",
    "latest_staging_version = model_staging[0].version\n",
    "print(\"The latest staging version of the model '%s' is '%s'.\" % (GROUP_MODEL_NAME, latest_staging_version))\n"
   ]
  },
  {
   "cell_type": "code",
   "execution_count": 0,
   "metadata": {
    "application/vnd.databricks.v1+cell": {
     "cellMetadata": {
      "byteLimit": 2048000,
      "rowLimit": 10000
     },
     "inputWidgets": {},
     "nuid": "a4cec78e-bf18-4dce-bc79-af9525d4e078",
     "showTitle": false,
     "title": ""
    }
   },
   "outputs": [],
   "source": [
    "# Details of Station\n",
    "print(\"Our_station\", GROUP_STATION_ASSIGNMENT)"
   ]
  },
  {
   "cell_type": "code",
   "execution_count": 0,
   "metadata": {
    "application/vnd.databricks.v1+cell": {
     "cellMetadata": {
      "byteLimit": 2048000,
      "rowLimit": 10000
     },
     "inputWidgets": {},
     "nuid": "7981b13d-3f1c-4d87-abd1-6b2f42b87ab5",
     "showTitle": false,
     "title": ""
    }
   },
   "outputs": [],
   "source": [
    "# Station name and a map location (marker)\n",
    "import folium\n",
    "longitude = -73.99074142\n",
    "latitude = 40.73454567\n",
    "m = folium.Map(location=[latitude, longitude], zoom_start=15)\n",
    "folium.Marker(location=[latitude, longitude]).add_to(m)\n",
    "print(\"OUR_STATION :\",GROUP_STATION_ASSIGNMENT)\n",
    "# Display the map\n",
    "m\n"
   ]
  },
  {
   "cell_type": "code",
   "execution_count": 0,
   "metadata": {
    "application/vnd.databricks.v1+cell": {
     "cellMetadata": {
      "byteLimit": 2048000,
      "rowLimit": 10000
     },
     "inputWidgets": {},
     "nuid": "08427444-edfe-4c76-a80d-8ee89692c273",
     "showTitle": false,
     "title": ""
    }
   },
   "outputs": [],
   "source": [
    "# Current weather (temp and precip) \n",
    "print(\"Current timestamp when the notebook is run (now)\", date)\n",
    "\n",
    "data = spark.read.format(\"delta\").load(\"dbfs:/FileStore/tables/bronze_nyc_weather.delta\")\n",
    "data = data.select(\"time\",\"temp\",'humidity',\"pressure\",\"wind_speed\",\"clouds\").toPandas()\n",
    "\n",
    "print(data[data.time == date].reset_index(drop=True))\n"
   ]
  },
  {
   "cell_type": "code",
   "execution_count": 0,
   "metadata": {
    "application/vnd.databricks.v1+cell": {
     "cellMetadata": {
      "byteLimit": 2048000,
      "rowLimit": 10000
     },
     "inputWidgets": {},
     "nuid": "1d79d13f-0d08-4825-aa35-5d786b29afc8",
     "showTitle": false,
     "title": ""
    }
   },
   "outputs": [],
   "source": [
    "station_info=spark.read.format(\"delta\").load(\"dbfs:/FileStore/tables/bronze_station_info.delta\")\n",
    "station_info=station_info.filter(station_info[\"station_id\"]==\"66db6387-0aca-11e7-82f6-3863bb44ef7c\")\n",
    "display(station_info.select(\"capacity\"))"
   ]
  },
  {
   "cell_type": "code",
   "execution_count": 0,
   "metadata": {
    "application/vnd.databricks.v1+cell": {
     "cellMetadata": {
      "byteLimit": 2048000,
      "rowLimit": 10000
     },
     "inputWidgets": {},
     "nuid": "0186aa84-381d-402e-ac29-4614102aae55",
     "showTitle": false,
     "title": ""
    }
   },
   "outputs": [],
   "source": [
    "# Total docks at this station and Total bikes available at this station\n",
    "\n",
    "from pyspark.sql.functions import col, desc, from_unixtime, date_format\n",
    "\n",
    "# Assume 'spark' is the SparkSession\n",
    "temp_df_data = spark.read.format(\"delta\").load(\"dbfs:/FileStore/tables/bronze_station_status.delta\")\n",
    "\n",
    "df = (temp_df_data\n",
    "      .filter(col(\"station_id\") == \"66db6387-0aca-11e7-82f6-3863bb44ef7c\")\n",
    "      .withColumn(\"last_reported\", date_format(from_unixtime(col(\"last_reported\").cast(\"long\")), \"yyyy-MM-dd HH:mm:ss\"))\n",
    "      .filter(col(\"last_reported\") <= hour)\n",
    "      .sort(desc(\"last_reported\"))\n",
    "      .select(\"num_bikes_available\",\"num_docks_available\")\n",
    "      .limit(1))\n",
    "\n",
    "display(df)\n"
   ]
  },
  {
   "cell_type": "code",
   "execution_count": 0,
   "metadata": {
    "application/vnd.databricks.v1+cell": {
     "cellMetadata": {
      "byteLimit": 2048000,
      "rowLimit": 10000
     },
     "inputWidgets": {},
     "nuid": "31765aa0-9493-48f3-a27c-2e41ceb3a99c",
     "showTitle": false,
     "title": ""
    }
   },
   "outputs": [],
   "source": [
    "# Forecast the available bikes for the next 4 hours.\n",
    "go=spark.read.format(\"delta\").load(GROUP_DATA_PATH + \"gold\"+\"/model_information\")\n",
    "go = go.withColumn(\"available_bikes_forecasted\", col(\"num_bikes_available\") + col(\"yhat\"))\n",
    "display(go)\n",
    "display(go.select('ds', \"available_bikes_forecasted\"))"
   ]
  },
  {
   "cell_type": "code",
   "execution_count": 0,
   "metadata": {
    "application/vnd.databricks.v1+cell": {
     "cellMetadata": {
      "byteLimit": 2048000,
      "rowLimit": 10000
     },
     "inputWidgets": {},
     "nuid": "c1587084-8e94-4acc-b02c-240fc5a95978",
     "showTitle": false,
     "title": ""
    }
   },
   "outputs": [],
   "source": [
    "# Forecast the available bikes for the next 4 hours.\n",
    "from pyspark.sql.types import *\n",
    "from pyspark.sql.functions import *\n",
    "from pyspark.sql import functions as F\n",
    "\n",
    "\n",
    "x = spark.read.format(\"delta\").load(GROUP_DATA_PATH + \"gold\"+\"/model_information\")\n",
    "x = x.withColumn(\"available_bikes\", col(\"num_bikes_available\") + col(\"yhat\"))\n",
    "display(x.select(\"available_bikes\"))\n",
    "display(x.printSchema())\n"
   ]
  },
  {
   "cell_type": "code",
   "execution_count": 0,
   "metadata": {
    "application/vnd.databricks.v1+cell": {
     "cellMetadata": {
      "byteLimit": 2048000,
      "rowLimit": 10000
     },
     "inputWidgets": {},
     "nuid": "434216f8-00a6-4072-93cf-9f0033984043",
     "showTitle": false,
     "title": ""
    }
   },
   "outputs": [],
   "source": [
    "import plotly.graph_objects as go\n",
    "import pandas as pd\n",
    "\n",
    "# Convert Spark DataFrame to Pandas DataFrame\n",
    "pdf = x.select(\"ds\", \"available_bikes\").toPandas()\n",
    "\n",
    "# Set x-axis as datetime and y-axis as available_bikes\n",
    "pdf.set_index(\"ds\", inplace=True)\n",
    "pdf.sort_index(inplace=True)\n",
    "\n",
    "# Create plotly figure\n",
    "fig = go.Figure()\n",
    "\n",
    "# Add trace for available bikes\n",
    "fig.add_trace(go.Scatter(x=pdf.index, y=pdf[\"available_bikes\"], name='Available Bikes'))\n",
    "\n",
    "# Add horizontal line for capacity\n",
    "fig.add_shape(type='line', x0=pdf.index[0], x1=pdf.index[-1], y0=113, y1=113,\n",
    "              line=dict(color='red', width=2, dash='dash'))\n",
    "\n",
    "# Add text annotation for capacity\n",
    "fig.add_annotation(x=pdf.index[0], y=113,\n",
    "                   text='Capacity', showarrow=False,\n",
    "                   xanchor='left', yanchor='bottom', font=dict(color='red'))\n",
    "\n",
    "# Update layout\n",
    "fig.update_layout(title='Number of Available Bikes over Time',\n",
    "                  xaxis_title='Time',\n",
    "                  yaxis_title='Available Bikes')\n",
    "\n",
    "# Show plot\n",
    "fig.show()"
   ]
  },
  {
   "cell_type": "code",
   "execution_count": 0,
   "metadata": {
    "application/vnd.databricks.v1+cell": {
     "cellMetadata": {
      "byteLimit": 2048000,
      "rowLimit": 10000
     },
     "inputWidgets": {},
     "nuid": "e336d23f-18ac-43ca-a8ca-def57bad70ad",
     "showTitle": false,
     "title": ""
    }
   },
   "outputs": [],
   "source": [
    "import plotly.express as px\n",
    "\n",
    "fig_df = go.toPandas()\n",
    "\n",
    "fig = px.scatter(\n",
    "    go, x='yhat', y='mod_res',\n",
    "    marginal_y='violin',\n",
    "    trendline='ols',\n",
    ")\n",
    "fig.show()"
   ]
  },
  {
   "cell_type": "code",
   "execution_count": 0,
   "metadata": {
    "application/vnd.databricks.v1+cell": {
     "cellMetadata": {
      "byteLimit": 2048000,
      "rowLimit": 10000
     },
     "inputWidgets": {},
     "nuid": "72dd6b0c-e067-42de-a3fb-74c4cffe2292",
     "showTitle": false,
     "title": ""
    }
   },
   "outputs": [],
   "source": []
  }
 ],
 "metadata": {
  "application/vnd.databricks.v1+notebook": {
   "dashboards": [],
   "language": "python",
   "notebookMetadata": {
    "pythonIndentUnit": 4
   },
   "notebookName": "G06_NEW__APP (1)",
   "notebookOrigID": 4119671058944486,
   "widgets": {}
  }
 },
 "nbformat": 4,
 "nbformat_minor": 0
}
